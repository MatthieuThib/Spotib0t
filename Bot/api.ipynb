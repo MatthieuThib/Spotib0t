{
 "cells": [
  {
   "cell_type": "code",
   "execution_count": 84,
   "id": "7a2c5849",
   "metadata": {},
   "outputs": [],
   "source": [
    "#!/usr/bin/env python3\n",
    "# -*- coding: utf-8 -*-\n",
    "\"\"\"\n",
    "Created on Sun Mar  6 09:25:53 2022\n",
    "\n",
    "@author: sebastienyung\n",
    "\"\"\"\n",
    "\n",
    "import requests\n",
    "\n",
    "API_URL = f'https://api.spotify.com/v1/search?q=Already%20dead&type=track'\n",
    "ACCESS_TOKEN = 'Bearer BQC7m7WH-x0VNSC-0L9RD4rgOIbNspuqNHa8ZC2i2MLerLBGvhqnGqRp3Ax5ZOeYrSvjWOdue81m2dFTZSt3_pSlDEssHbv5Zx-j14WuHhOnZRo3xPBk3k4k56C9ZOopP2YQ4pWlxQxVjEZYD9v7JkEn6Qyf7uwnD7y6oA2X7OzMETBYO7U6DfM'\n"
   ]
  },
  {
   "cell_type": "code",
   "execution_count": 86,
   "id": "099409dd",
   "metadata": {},
   "outputs": [],
   "source": [
    "def get_artist_id(artist, token):\n",
    "    API_URL = f'https://api.spotify.com/v1/search?q={artist}&type=artist'\n",
    "    API_URL = API_URL.replace(' ', '%20')\n",
    "    response = requests.get(\n",
    "            API_URL,\n",
    "            headers={\n",
    "                    \"Authorization\": f\"{token} \"\n",
    "            }\n",
    "    )\n",
    "    json_resp = response.json()\n",
    "    return json_resp['artists']['items'][0]['id']\n",
    "    "
   ]
  },
  {
   "cell_type": "code",
   "execution_count": 112,
   "id": "4e9ac7f6",
   "metadata": {},
   "outputs": [],
   "source": [
    "def get_top_track(artist, token):\n",
    "    aid = get_artist_id(artist, token)\n",
    "    API_URL = f'https://api.spotify.com/v1/artists/{aid}/top-tracks?market=US'\n",
    "    \n",
    "    response = requests.get(\n",
    "            API_URL,\n",
    "            headers={\n",
    "                    \"Authorization\": f\"{token} \"\n",
    "            }\n",
    "    )\n",
    "    \n",
    "    json_resp = response.json()\n",
    "    #print(json_resp['tracks'][0]['name'])\n",
    "    for i in range(len(json_resp['tracks'])):\n",
    "        print(i+1, \" : \", json_resp['tracks'][i]['name'])"
   ]
  },
  {
   "cell_type": "code",
   "execution_count": 124,
   "id": "f8a3b6f0",
   "metadata": {},
   "outputs": [
    {
     "name": "stdout",
     "output_type": "stream",
     "text": [
      "1  :  STAY (with Justin Bieber)\n",
      "2  :  Ghost\n",
      "3  :  Peaches (feat. Daniel Caesar & Giveon)\n",
      "4  :  Stuck with U (with Justin Bieber)\n",
      "5  :  Love Yourself\n",
      "6  :  Sorry\n",
      "7  :  Baby\n",
      "8  :  10,000 Hours (with Justin Bieber)\n",
      "9  :  I Don't Care (with Justin Bieber)\n",
      "10  :  Anyone\n"
     ]
    }
   ],
   "source": [
    "get_top_track('Justin Bieber', ACCESS_TOKEN)"
   ]
  },
  {
   "cell_type": "code",
   "execution_count": 157,
   "id": "8c0f8141",
   "metadata": {},
   "outputs": [],
   "source": [
    "def get_artist(track, token):\n",
    "    API_URL = f'https://api.spotify.com/v1/search?q={track}&type=track&market=US'\n",
    "    API_URL = API_URL.replace(' ', '%20')\n",
    "\n",
    "    response = requests.get(\n",
    "            API_URL,\n",
    "            headers={\n",
    "                    \"Authorization\": f\"{token} \"\n",
    "            }\n",
    "    )\n",
    "    \n",
    "    json_resp = response.json()\n",
    "    for i in range(len(json_resp['tracks']['items'])):\n",
    "        print(json_resp['tracks']['items'][i]['artists'][0]['name'])"
   ]
  },
  {
   "cell_type": "code",
   "execution_count": 159,
   "id": "905028ce",
   "metadata": {},
   "outputs": [
    {
     "name": "stdout",
     "output_type": "stream",
     "text": [
      "Tiësto\n",
      "Labrinth\n",
      "Alan Walker\n",
      "Cody Johnson\n",
      "Kid Cudi\n",
      "Jennifer Lopez\n",
      "Drake\n",
      "Khalid\n",
      "Jennifer Lopez\n",
      "Kid Cudi\n",
      "((( O )))\n",
      "Phil Collins\n",
      "The Weeknd\n",
      "Jane & The Boy\n",
      "Sons Of The East\n",
      "Finger Eleven\n",
      "Likkle Jordee\n",
      "Sheppard\n",
      "$uicideboy$\n",
      "Getter\n"
     ]
    }
   ],
   "source": [
    "get_artist('On my way', ACCESS_TOKEN)"
   ]
  },
  {
   "cell_type": "code",
   "execution_count": 164,
   "id": "4c9000d6",
   "metadata": {},
   "outputs": [
    {
     "data": {
      "text/plain": [
       "{'error': {'status': 403, 'message': 'Insufficient client scope'}}"
      ]
     },
     "execution_count": 164,
     "metadata": {},
     "output_type": "execute_result"
    }
   ],
   "source": [
    "    \n",
    "API_URL = 'https://api.spotify.com/v1/me/following?type=artist'\n",
    "\n",
    "response = requests.get(\n",
    "        API_URL,\n",
    "        headers={\n",
    "                \"Authorization\": f\"{ACCESS_TOKEN} \"\n",
    "        }\n",
    ")\n",
    "\n",
    "json_resp = response.json()\n",
    "json_resp"
   ]
  },
  {
   "cell_type": "code",
   "execution_count": null,
   "id": "e5f282e0",
   "metadata": {},
   "outputs": [],
   "source": []
  }
 ],
 "metadata": {
  "kernelspec": {
   "display_name": "Python 3 (ipykernel)",
   "language": "python",
   "name": "python3"
  },
  "language_info": {
   "codemirror_mode": {
    "name": "ipython",
    "version": 3
   },
   "file_extension": ".py",
   "mimetype": "text/x-python",
   "name": "python",
   "nbconvert_exporter": "python",
   "pygments_lexer": "ipython3",
   "version": "3.7.0"
  }
 },
 "nbformat": 4,
 "nbformat_minor": 5
}
