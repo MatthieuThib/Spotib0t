{
 "cells": [
  {
   "cell_type": "code",
   "execution_count": 145,
   "id": "8dd4ff86",
   "metadata": {},
   "outputs": [],
   "source": [
    "#!/usr/bin/env python3\n",
    "# -*- coding: utf-8 -*-\n",
    "\"\"\"\n",
    "Created on Sun Mar  6 09:25:53 2022\n",
    "\n",
    "@author: sebastienyung\n",
    "\"\"\"\n",
    "\n",
    "import requests\n",
    "\n",
    "ACCESS_TOKEN = 'Bearer BQBk5v2NJLFocfkBApJZHJCD6ZINxORRq8ZcJgF3rLMeV2W7uzKoO6dzEzxDf3KrAxrmyxve1BZE7n2THKSsnPD2rJuYejEhKuonBUi8ftsTZjnjINP5Q-1UP7y_IjZ5ld8Mvt2A5mkF6Ceb73g74NngJ8dsJUE-6F57hXBZjSgD_Rmw69AV75Q'\n"
   ]
  },
  {
   "cell_type": "code",
   "execution_count": 146,
   "id": "94c24e0e",
   "metadata": {},
   "outputs": [],
   "source": [
    "def get_artist_id(artist, token):\n",
    "    API_URL = f'https://api.spotify.com/v1/search?q={artist}&type=artist'\n",
    "    API_URL = API_URL.replace(' ', '%20')\n",
    "    response = requests.get(\n",
    "            API_URL,\n",
    "            headers={\n",
    "                    \"Authorization\": f\"{token} \"\n",
    "            }\n",
    "    )\n",
    "    json_resp = response.json()\n",
    "    return json_resp['artists']['items'][0]['id']\n",
    "    "
   ]
  },
  {
   "cell_type": "code",
   "execution_count": 147,
   "id": "ddc33f6a",
   "metadata": {},
   "outputs": [
    {
     "data": {
      "text/plain": [
       "'1uNFoZAHBGtllmzznpCI3s'"
      ]
     },
     "execution_count": 147,
     "metadata": {},
     "output_type": "execute_result"
    }
   ],
   "source": [
    "get_artist_id('Justin Bieber', ACCESS_TOKEN)"
   ]
  },
  {
   "cell_type": "code",
   "execution_count": 148,
   "id": "36ddc11d",
   "metadata": {},
   "outputs": [],
   "source": [
    "def get_top_track(artist, token):\n",
    "    aid = get_artist_id(artist, token)\n",
    "    API_URL = f'https://api.spotify.com/v1/artists/{aid}/top-tracks?market=US'\n",
    "    \n",
    "    response = requests.get(\n",
    "            API_URL,\n",
    "            headers={\n",
    "                    \"Authorization\": f\"{token} \"\n",
    "            }\n",
    "    )\n",
    "    \n",
    "    json_resp = response.json()\n",
    "    #print(json_resp['tracks'][0]['name'])\n",
    "    tracks = []\n",
    "    for i in range(3):\n",
    "        tracks.append(str(i+1) + \" : \" + json_resp['tracks'][i]['name'])\n",
    "        \n",
    "    return (\"\\033[1m\" + \", \".join(tracks) + \"\\033[0m\" + \" are the most listened tracks from \" + artist)"
   ]
  },
  {
   "cell_type": "code",
   "execution_count": 149,
   "id": "2f938ee7",
   "metadata": {},
   "outputs": [
    {
     "name": "stdout",
     "output_type": "stream",
     "text": [
      "\u001b[1m1 : Knife Talk (with 21 Savage ft. Project Pat), 2 : One Dance, 3 : Fair Trade (with Travis Scott)\u001b[0m are the most listened tracks from Drake\n"
     ]
    }
   ],
   "source": [
    "print(get_top_track('Drake', ACCESS_TOKEN))"
   ]
  },
  {
   "cell_type": "code",
   "execution_count": 150,
   "id": "b53471f0",
   "metadata": {},
   "outputs": [],
   "source": [
    "def get_artist(track, token):\n",
    "    API_URL = f'https://api.spotify.com/v1/search?q={track}&type=track&market=US'\n",
    "    API_URL = API_URL.replace(' ', '%20')\n",
    "\n",
    "    response = requests.get(\n",
    "            API_URL,\n",
    "            headers={\n",
    "                    \"Authorization\": f\"{token} \"\n",
    "            }\n",
    "    )\n",
    "    \n",
    "    json_resp = response.json()\n",
    "    return (\"\\033[1m\" + json_resp['tracks']['items'][0]['artists'][0]['name'] + \"\\033[0m\" + \" sang \" + track)"
   ]
  },
  {
   "cell_type": "code",
   "execution_count": 151,
   "id": "73d13eb1",
   "metadata": {},
   "outputs": [
    {
     "name": "stdout",
     "output_type": "stream",
     "text": [
      "\u001b[1mThe Kid LAROI\u001b[0m sang STAY\n"
     ]
    }
   ],
   "source": [
    "print(get_artist('STAY', ACCESS_TOKEN))"
   ]
  },
  {
   "cell_type": "code",
   "execution_count": 152,
   "id": "c223d7f9",
   "metadata": {},
   "outputs": [],
   "source": [
    "def get_related_artists(artist, token):\n",
    "    aid = get_artist_id(artist, token)\n",
    "    API_URL = f'https://api.spotify.com/v1/artists/{aid}/related-artists'\n",
    "\n",
    "    response = requests.get(\n",
    "            API_URL,\n",
    "            headers={\n",
    "                    \"Authorization\": f\"{ACCESS_TOKEN} \"\n",
    "            }\n",
    "    )\n",
    "\n",
    "    json_resp = response.json()\n",
    "    artists = []\n",
    "    for i in range(3):\n",
    "        artists.append(json_resp['artists'][i]['name'])\n",
    "    \n",
    "    return (\"\\033[1m\" + \", \".join(artists) + \"\\033[0m\" + \" are similar to \" + artist)"
   ]
  },
  {
   "cell_type": "code",
   "execution_count": 153,
   "id": "68e6f50f",
   "metadata": {
    "scrolled": true
   },
   "outputs": [
    {
     "name": "stdout",
     "output_type": "stream",
     "text": [
      "\u001b[1mZAYN, Shawn Mendes, Niall Horan\u001b[0m are similar to Justin Bieber\n"
     ]
    }
   ],
   "source": [
    "print(get_related_artists('Justin Bieber', ACCESS_TOKEN))"
   ]
  },
  {
   "cell_type": "code",
   "execution_count": 135,
   "id": "0efbbade",
   "metadata": {},
   "outputs": [],
   "source": [
    "import re"
   ]
  },
  {
   "cell_type": "code",
   "execution_count": 154,
   "id": "6996fb3d",
   "metadata": {},
   "outputs": [
    {
     "name": "stdout",
     "output_type": "stream",
     "text": [
      "> Hi\n",
      "I didn't get it. Could you rephrase please ?\n",
      "> hello\n",
      "Hi, how can I help you ?\n",
      "> Which artist sang Butter ?\n",
      "\u001b[1mBTS\u001b[0m sang Butter \n",
      "> Which artist is related to BTS ?\n",
      "\u001b[1mj-hope, V, RM\u001b[0m are similar to BTS \n",
      "> Which artist is related to Justin Bieber ?\n",
      "\u001b[1mZAYN, Shawn Mendes, Niall Horan\u001b[0m are similar to Justin Bieber \n",
      "> What are the best musics from Drake ?\n",
      "\u001b[1m1 : Knife Talk (with 21 Savage ft. Project Pat), 2 : One Dance, 3 : Fair Trade (with Travis Scott)\u001b[0m are the most listened tracks from Drake \n",
      "> Bye\n",
      "Bye !!\n"
     ]
    }
   ],
   "source": [
    "while True:\n",
    "    user_input = input('> ')\n",
    "    if(re.search('(h|H)ello|(g|G)ood morning|(g|G)ood evening|(b|B)uenos dias|(b|B)onjour|(S|s)alut', user_input)):\n",
    "        print(\"Hi, how can I help you ?\")\n",
    "    elif((re.search(\"artist|singer|group|boysband|band|girlsband\", user_input)) and (re.search(\"related to|similar to|like\", user_input))):\n",
    "        pattern = re.compile(r\"related to |similar to |like \")\n",
    "        splitted=pattern.split(user_input)\n",
    "        artist = splitted[-1][:-1]\n",
    "        print(get_related_artists(artist, ACCESS_TOKEN))\n",
    "    elif(re.search(\"artist|singer|group|boysband|band|girlsband\", user_input)):\n",
    "        pattern = re.compile(r\"sang |sing \")\n",
    "        splitted=pattern.split(user_input)\n",
    "        track = splitted[-1][:-1]\n",
    "        print(get_artist(track, ACCESS_TOKEN))\n",
    "    elif(re.search(\"(W|w)ho\", user_input)):\n",
    "        pattern = re.compile(r\"sang |sing \")\n",
    "        splitted=pattern.split(user_input)\n",
    "        track = splitted[-1][:-1y]\n",
    "        print(get_artist(track, ACCESS_TOKEN))\n",
    "    elif(re.search('best musics|best music|top|top musics', user_input)):\n",
    "        pattern = re.compile(r'of |from |by ')\n",
    "        splitted=pattern.split(user_input)\n",
    "        artist = splitted[-1][:-1]\n",
    "        print(get_top_track(artist,ACCESS_TOKEN))\n",
    "    elif(re.search(\"(B|b)ye|(B|b)ye bye|(H|h)ave a nice day|(S|s)ayonara|(A|a)u revoir|(B|b)onne journée|(E|e)xit|(K|k)ill\", user_input)):\n",
    "        print(\"Bye !!\")\n",
    "        break\n",
    "    else:\n",
    "        print(\"I didn't get it. Could you rephrase please ?\")"
   ]
  },
  {
   "cell_type": "code",
   "execution_count": null,
   "id": "1374ae03",
   "metadata": {},
   "outputs": [],
   "source": []
  },
  {
   "cell_type": "code",
   "execution_count": null,
   "id": "52d52558",
   "metadata": {},
   "outputs": [],
   "source": []
  }
 ],
 "metadata": {
  "kernelspec": {
   "display_name": "Python 3 (ipykernel)",
   "language": "python",
   "name": "python3"
  },
  "language_info": {
   "codemirror_mode": {
    "name": "ipython",
    "version": 3
   },
   "file_extension": ".py",
   "mimetype": "text/x-python",
   "name": "python",
   "nbconvert_exporter": "python",
   "pygments_lexer": "ipython3",
   "version": "3.7.0"
  }
 },
 "nbformat": 4,
 "nbformat_minor": 5
}
